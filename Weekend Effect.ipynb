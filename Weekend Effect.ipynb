{
 "cells": [
  {
   "cell_type": "code",
   "execution_count": 102,
   "metadata": {},
   "outputs": [],
   "source": [
    "import pandas as pd\n",
    "import numpy as np\n",
    "import matplotlib.pyplot as plt\n",
    "import seaborn as sns\n",
    "import math as math\n",
    "from statsmodels.formula.api import ols\n",
    "import statsmodels.api as sm\n",
    "from bioinfokit.analys import stat"
   ]
  },
  {
   "cell_type": "code",
   "execution_count": 103,
   "metadata": {},
   "outputs": [],
   "source": [
    "import technical_indicators as ti\n"
   ]
  },
  {
   "cell_type": "code",
   "execution_count": 104,
   "metadata": {},
   "outputs": [],
   "source": [
    "df = pd.read_csv(\"AAPL.csv\") # S&P\n"
   ]
  },
  {
   "cell_type": "code",
   "execution_count": 105,
   "metadata": {},
   "outputs": [
    {
     "data": {
      "text/html": [
       "<div>\n",
       "<style scoped>\n",
       "    .dataframe tbody tr th:only-of-type {\n",
       "        vertical-align: middle;\n",
       "    }\n",
       "\n",
       "    .dataframe tbody tr th {\n",
       "        vertical-align: top;\n",
       "    }\n",
       "\n",
       "    .dataframe thead th {\n",
       "        text-align: right;\n",
       "    }\n",
       "</style>\n",
       "<table border=\"1\" class=\"dataframe\">\n",
       "  <thead>\n",
       "    <tr style=\"text-align: right;\">\n",
       "      <th></th>\n",
       "      <th>Date</th>\n",
       "      <th>Open</th>\n",
       "      <th>High</th>\n",
       "      <th>Low</th>\n",
       "      <th>Close</th>\n",
       "      <th>Adj Close</th>\n",
       "      <th>Volume</th>\n",
       "    </tr>\n",
       "  </thead>\n",
       "  <tbody>\n",
       "    <tr>\n",
       "      <th>0</th>\n",
       "      <td>2019-12-06</td>\n",
       "      <td>66.870003</td>\n",
       "      <td>67.750000</td>\n",
       "      <td>66.824997</td>\n",
       "      <td>67.677498</td>\n",
       "      <td>66.553131</td>\n",
       "      <td>106075600</td>\n",
       "    </tr>\n",
       "    <tr>\n",
       "      <th>1</th>\n",
       "      <td>2019-12-09</td>\n",
       "      <td>67.500000</td>\n",
       "      <td>67.699997</td>\n",
       "      <td>66.227501</td>\n",
       "      <td>66.730003</td>\n",
       "      <td>65.621384</td>\n",
       "      <td>128042400</td>\n",
       "    </tr>\n",
       "    <tr>\n",
       "      <th>2</th>\n",
       "      <td>2019-12-10</td>\n",
       "      <td>67.150002</td>\n",
       "      <td>67.517502</td>\n",
       "      <td>66.464996</td>\n",
       "      <td>67.120003</td>\n",
       "      <td>66.004898</td>\n",
       "      <td>90420400</td>\n",
       "    </tr>\n",
       "    <tr>\n",
       "      <th>3</th>\n",
       "      <td>2019-12-11</td>\n",
       "      <td>67.202499</td>\n",
       "      <td>67.775002</td>\n",
       "      <td>67.125000</td>\n",
       "      <td>67.692497</td>\n",
       "      <td>66.567886</td>\n",
       "      <td>78756800</td>\n",
       "    </tr>\n",
       "    <tr>\n",
       "      <th>4</th>\n",
       "      <td>2019-12-12</td>\n",
       "      <td>66.945000</td>\n",
       "      <td>68.139999</td>\n",
       "      <td>66.830002</td>\n",
       "      <td>67.864998</td>\n",
       "      <td>66.737518</td>\n",
       "      <td>137310400</td>\n",
       "    </tr>\n",
       "  </tbody>\n",
       "</table>\n",
       "</div>"
      ],
      "text/plain": [
       "         Date       Open       High        Low      Close  Adj Close  \\\n",
       "0  2019-12-06  66.870003  67.750000  66.824997  67.677498  66.553131   \n",
       "1  2019-12-09  67.500000  67.699997  66.227501  66.730003  65.621384   \n",
       "2  2019-12-10  67.150002  67.517502  66.464996  67.120003  66.004898   \n",
       "3  2019-12-11  67.202499  67.775002  67.125000  67.692497  66.567886   \n",
       "4  2019-12-12  66.945000  68.139999  66.830002  67.864998  66.737518   \n",
       "\n",
       "      Volume  \n",
       "0  106075600  \n",
       "1  128042400  \n",
       "2   90420400  \n",
       "3   78756800  \n",
       "4  137310400  "
      ]
     },
     "execution_count": 105,
     "metadata": {},
     "output_type": "execute_result"
    }
   ],
   "source": [
    "df.head()"
   ]
  },
  {
   "cell_type": "code",
   "execution_count": 106,
   "metadata": {},
   "outputs": [],
   "source": [
    "df['Date'] = pd.to_datetime(df['Date'])\n",
    "df['day_of_the_week'] = df['Date'].dt.day_name()\n",
    "df['abs_price_change_in_day'] = abs(df['Close'] - df['Open'])\n",
    "df['price_change_in_day'] = df['Close'] - df['Open']\n",
    "\n",
    "df['price_change_by_day'] = df['Close'].pct_change() # Computes the percentage change from the immediately previous row by default\n",
    "df['Weekly_change'] =  df.price_change_by_day.rolling(window=5,min_periods=0).mean() \n",
    "df['diff'] =  df['Weekly_change'] - df['abs_price_change_in_day']\n",
    "df['Weekly_significance_change'] =  abs(df['Weekly_change'] - df['Weekly_change'].mean())/df['Weekly_change'].std()\n",
    "df = df[1:]"
   ]
  },
  {
   "cell_type": "code",
   "execution_count": 107,
   "metadata": {},
   "outputs": [
    {
     "data": {
      "text/html": [
       "<div>\n",
       "<style scoped>\n",
       "    .dataframe tbody tr th:only-of-type {\n",
       "        vertical-align: middle;\n",
       "    }\n",
       "\n",
       "    .dataframe tbody tr th {\n",
       "        vertical-align: top;\n",
       "    }\n",
       "\n",
       "    .dataframe thead th {\n",
       "        text-align: right;\n",
       "    }\n",
       "</style>\n",
       "<table border=\"1\" class=\"dataframe\">\n",
       "  <thead>\n",
       "    <tr style=\"text-align: right;\">\n",
       "      <th></th>\n",
       "      <th>price_change_by_day</th>\n",
       "      <th>Weekly_change</th>\n",
       "      <th>diff</th>\n",
       "    </tr>\n",
       "  </thead>\n",
       "  <tbody>\n",
       "    <tr>\n",
       "      <th>1</th>\n",
       "      <td>-0.014000</td>\n",
       "      <td>-0.014000</td>\n",
       "      <td>-0.783997</td>\n",
       "    </tr>\n",
       "    <tr>\n",
       "      <th>2</th>\n",
       "      <td>0.005844</td>\n",
       "      <td>-0.004078</td>\n",
       "      <td>-0.034077</td>\n",
       "    </tr>\n",
       "    <tr>\n",
       "      <th>3</th>\n",
       "      <td>0.008529</td>\n",
       "      <td>0.000125</td>\n",
       "      <td>-0.489873</td>\n",
       "    </tr>\n",
       "    <tr>\n",
       "      <th>4</th>\n",
       "      <td>0.002548</td>\n",
       "      <td>0.000731</td>\n",
       "      <td>-0.919267</td>\n",
       "    </tr>\n",
       "    <tr>\n",
       "      <th>5</th>\n",
       "      <td>0.013593</td>\n",
       "      <td>0.003303</td>\n",
       "      <td>-0.919197</td>\n",
       "    </tr>\n",
       "  </tbody>\n",
       "</table>\n",
       "</div>"
      ],
      "text/plain": [
       "   price_change_by_day  Weekly_change      diff\n",
       "1            -0.014000      -0.014000 -0.783997\n",
       "2             0.005844      -0.004078 -0.034077\n",
       "3             0.008529       0.000125 -0.489873\n",
       "4             0.002548       0.000731 -0.919267\n",
       "5             0.013593       0.003303 -0.919197"
      ]
     },
     "execution_count": 107,
     "metadata": {},
     "output_type": "execute_result"
    }
   ],
   "source": [
    "df[[\"price_change_by_day\",'Weekly_change','diff']].head()"
   ]
  },
  {
   "cell_type": "code",
   "execution_count": 108,
   "metadata": {},
   "outputs": [
    {
     "data": {
      "text/plain": [
       "(251, 14)"
      ]
     },
     "execution_count": 108,
     "metadata": {},
     "output_type": "execute_result"
    }
   ],
   "source": [
    "df.shape"
   ]
  },
  {
   "cell_type": "code",
   "execution_count": 109,
   "metadata": {},
   "outputs": [
    {
     "data": {
      "image/png": "[encoded data removed]",
      "text/plain": [
       "<Figure size 432x288 with 1 Axes>"
      ]
     },
     "metadata": {
      "needs_background": "light"
     },
     "output_type": "display_data"
    }
   ],
   "source": [
    "ax = sns.boxplot(x=\"day_of_the_week\", y=\"price_change_in_day\", data=df)\n"
   ]
  },
  {
   "cell_type": "code",
   "execution_count": 110,
   "metadata": {},
   "outputs": [
    {
     "name": "stderr",
     "output_type": "stream",
     "text": [
      "/anaconda3/lib/python3.7/site-packages/scipy/stats/stats.py:1713: FutureWarning: Using a non-tuple sequence for multidimensional indexing is deprecated; use `arr[tuple(seq)]` instead of `arr[seq]`. In the future this will be interpreted as an array index, `arr[np.array(seq)]`, which will result either in an error or a different result.\n",
      "  return np.add.reduce(sorted[indexer] * weights, axis=axis) / sumval\n"
     ]
    },
    {
     "data": {
      "image/png": "[encoded data removed]",
      "text/plain": [
       "<Figure size 432x288 with 1 Axes>"
      ]
     },
     "metadata": {
      "needs_background": "light"
     },
     "output_type": "display_data"
    }
   ],
   "source": [
    "ax = sns.lineplot(df['day_of_the_week'], df['Weekly_change'], markers=True)\n",
    "\n"
   ]
  },
  {
   "cell_type": "code",
   "execution_count": 111,
   "metadata": {},
   "outputs": [
    {
     "data": {
      "text/plain": [
       "<seaborn.axisgrid.FacetGrid at 0x1c1c4ec2e8>"
      ]
     },
     "execution_count": 111,
     "metadata": {},
     "output_type": "execute_result"
    },
    {
     "data": {
      "image/png": "[encoded data removed]",
      "text/plain": [
       "<Figure size 360x360 with 1 Axes>"
      ]
     },
     "metadata": {
      "needs_background": "light"
     },
     "output_type": "display_data"
    }
   ],
   "source": [
    "sns.catplot(x=\"day_of_the_week\", y=\"price_change_in_day\", data=df)\n"
   ]
  },
  {
   "cell_type": "code",
   "execution_count": 112,
   "metadata": {},
   "outputs": [
    {
     "data": {
      "image/png": "[encoded data removed]",
      "text/plain": [
       "<Figure size 432x288 with 1 Axes>"
      ]
     },
     "metadata": {
      "needs_background": "light"
     },
     "output_type": "display_data"
    }
   ],
   "source": [
    "sns.scatterplot(x='price_change_in_day',y='Weekly_change',hue='day_of_the_week',data=df)\n",
    "plt.show()"
   ]
  },
  {
   "cell_type": "code",
   "execution_count": 113,
   "metadata": {},
   "outputs": [
    {
     "name": "stdout",
     "output_type": "stream",
     "text": [
      "\n",
      "Z and P-score for  Monday  is   (-60.4437, 0.0)\n",
      "Z and P-score for  Tuesday  is   (-67.0868, 0.0)\n",
      "Z and P-score for  Wednesday  is   (-46.9289, 0.0)\n",
      "Z and P-score for  Thursday  is   (-47.3586, 0.0)\n",
      "Z and P-score for  Friday  is   (-56.9874, 0.0)\n"
     ]
    }
   ],
   "source": [
    "def twoSampZ(X1, X2, mudiff, sd1, sd2, n1, n2):  \n",
    "    from numpy import sqrt, abs, round\n",
    "    from scipy.stats import norm\n",
    "    pooledSE = sqrt(sd1**2/n1 + sd2**2/n2)\n",
    "    z = ((X1 - X2) - mudiff)/pooledSE\n",
    "    pval = 2*(1 - norm.cdf(abs(z)))\n",
    "    return z,pval\n",
    "\n",
    "def differenceSampZ(X,SD,n):  \n",
    "    from numpy import sqrt, abs, round\n",
    "    from scipy.stats import norm\n",
    "    SE = SD/sqrt(n)\n",
    "    z = ((X) - 0)/SE\n",
    "    pval =  norm.cdf(z)\n",
    "    return round(z,4) ,pval\n",
    "\n",
    "q = []\n",
    "p = []\n",
    "print(\"\")\n",
    "for week in df['day_of_the_week'].unique().tolist() :\n",
    "        df1 = df.drop(df[(df['day_of_the_week'] != week)].index).copy()\n",
    "        df1.iloc[1:]\n",
    "        print(\"Z and P-score for \", week, \" is  \" , differenceSampZ(df1['diff'].mean(),df1['diff'].std(),2517))\n",
    "        \n",
    "\n",
    "        "
   ]
  },
  {
   "cell_type": "code",
   "execution_count": 114,
   "metadata": {},
   "outputs": [
    {
     "data": {
      "text/plain": [
       "-1.3573585137938093"
      ]
     },
     "execution_count": 114,
     "metadata": {},
     "output_type": "execute_result"
    }
   ],
   "source": [
    "df['diff'].mean()"
   ]
  },
  {
   "cell_type": "code",
   "execution_count": 115,
   "metadata": {},
   "outputs": [
    {
     "data": {
      "text/plain": [
       "1.2425565997464718"
      ]
     },
     "execution_count": 115,
     "metadata": {},
     "output_type": "execute_result"
    }
   ],
   "source": [
    "df['diff'].std()"
   ]
  },
  {
   "cell_type": "code",
   "execution_count": 116,
   "metadata": {},
   "outputs": [],
   "source": [
    "n = 2517"
   ]
  },
  {
   "cell_type": "code",
   "execution_count": 117,
   "metadata": {},
   "outputs": [
    {
     "data": {
      "image/png": "[encoded data removed]",
      "text/plain": [
       "<Figure size 432x288 with 1 Axes>"
      ]
     },
     "metadata": {
      "needs_background": "light"
     },
     "output_type": "display_data"
    }
   ],
   "source": [
    "\n",
    "bins= [0,1,2]\n",
    "\n",
    "Weekly_Change = ['Average',  'High'  ]\n",
    "\n",
    "df['Weekly_significance_change_Range'] = pd.cut(df['Weekly_significance_change'], bins, labels=Weekly_Change)\n",
    "\n",
    "df['Weekly_significance_change_Range'].value_counts().plot(kind='bar')\n",
    "\n",
    "plt.savefig('fig1.png')"
   ]
  },
  {
   "cell_type": "code",
   "execution_count": 118,
   "metadata": {},
   "outputs": [
    {
     "data": {
      "text/plain": [
       "<AxesSubplot:xlabel='day_of_the_week', ylabel='price_change_in_day'>"
      ]
     },
     "execution_count": 118,
     "metadata": {},
     "output_type": "execute_result"
    },
    {
     "data": {
      "image/png": "[encoded data removed]",
      "text/plain": [
       "<Figure size 432x288 with 1 Axes>"
      ]
     },
     "metadata": {
      "needs_background": "light"
     },
     "output_type": "display_data"
    }
   ],
   "source": [
    "df = df.replace(['Tuesday', 'Wednesday', 'Friday', 'Thursday'], 'Other')\n",
    "\n",
    "sns.boxplot(x=\"day_of_the_week\", y=\"price_change_in_day\", hue=\"Weekly_significance_change_Range\", data=df, palette=\"Set3\") \n"
   ]
  },
  {
   "cell_type": "code",
   "execution_count": 119,
   "metadata": {},
   "outputs": [
    {
     "data": {
      "text/html": [
       "<div>\n",
       "<style scoped>\n",
       "    .dataframe tbody tr th:only-of-type {\n",
       "        vertical-align: middle;\n",
       "    }\n",
       "\n",
       "    .dataframe tbody tr th {\n",
       "        vertical-align: top;\n",
       "    }\n",
       "\n",
       "    .dataframe thead th {\n",
       "        text-align: right;\n",
       "    }\n",
       "</style>\n",
       "<table border=\"1\" class=\"dataframe\">\n",
       "  <thead>\n",
       "    <tr style=\"text-align: right;\">\n",
       "      <th></th>\n",
       "      <th>sum_sq</th>\n",
       "      <th>df</th>\n",
       "      <th>F</th>\n",
       "      <th>PR(&gt;F)</th>\n",
       "    </tr>\n",
       "  </thead>\n",
       "  <tbody>\n",
       "    <tr>\n",
       "      <th>C(day_of_the_week)</th>\n",
       "      <td>3.106191</td>\n",
       "      <td>1.0</td>\n",
       "      <td>2.355117</td>\n",
       "      <td>0.126253</td>\n",
       "    </tr>\n",
       "    <tr>\n",
       "      <th>C(Weekly_significance_change_Range)</th>\n",
       "      <td>12.258975</td>\n",
       "      <td>1.0</td>\n",
       "      <td>9.294768</td>\n",
       "      <td>0.002568</td>\n",
       "    </tr>\n",
       "    <tr>\n",
       "      <th>C(day_of_the_week):C(Weekly_significance_change_Range)</th>\n",
       "      <td>1.147157</td>\n",
       "      <td>1.0</td>\n",
       "      <td>0.869776</td>\n",
       "      <td>0.352000</td>\n",
       "    </tr>\n",
       "    <tr>\n",
       "      <th>Residual</th>\n",
       "      <td>302.030700</td>\n",
       "      <td>229.0</td>\n",
       "      <td>NaN</td>\n",
       "      <td>NaN</td>\n",
       "    </tr>\n",
       "  </tbody>\n",
       "</table>\n",
       "</div>"
      ],
      "text/plain": [
       "                                                        sum_sq     df  \\\n",
       "C(day_of_the_week)                                    3.106191    1.0   \n",
       "C(Weekly_significance_change_Range)                  12.258975    1.0   \n",
       "C(day_of_the_week):C(Weekly_significance_change...    1.147157    1.0   \n",
       "Residual                                            302.030700  229.0   \n",
       "\n",
       "                                                           F    PR(>F)  \n",
       "C(day_of_the_week)                                  2.355117  0.126253  \n",
       "C(Weekly_significance_change_Range)                 9.294768  0.002568  \n",
       "C(day_of_the_week):C(Weekly_significance_change...  0.869776  0.352000  \n",
       "Residual                                                 NaN       NaN  "
      ]
     },
     "execution_count": 119,
     "metadata": {},
     "output_type": "execute_result"
    }
   ],
   "source": [
    "model = ols('abs_price_change_in_day ~ C(day_of_the_week) + C(Weekly_significance_change_Range) + C(day_of_the_week):C(Weekly_significance_change_Range)', data=df).fit()\n",
    "anova_table = sm.stats.anova_lm(model, typ=2)\n",
    "anova_table"
   ]
  },
  {
   "cell_type": "code",
   "execution_count": 120,
   "metadata": {},
   "outputs": [
    {
     "name": "stderr",
     "output_type": "stream",
     "text": [
      "/anaconda3/lib/python3.7/site-packages/bioinfokit/analys.py:332: FutureWarning: DataFrame.mean and DataFrame.median with numeric_only=None will include datetime64 and datetime64tz columns in a future version.\n",
      "  (df[xfac_var[1]] == ele2)].mean().loc[res_var]\n"
     ]
    },
    {
     "data": {
      "text/html": [
       "<div>\n",
       "<style scoped>\n",
       "    .dataframe tbody tr th:only-of-type {\n",
       "        vertical-align: middle;\n",
       "    }\n",
       "\n",
       "    .dataframe tbody tr th {\n",
       "        vertical-align: top;\n",
       "    }\n",
       "\n",
       "    .dataframe thead th {\n",
       "        text-align: right;\n",
       "    }\n",
       "</style>\n",
       "<table border=\"1\" class=\"dataframe\">\n",
       "  <thead>\n",
       "    <tr style=\"text-align: right;\">\n",
       "      <th></th>\n",
       "      <th>group1</th>\n",
       "      <th>group2</th>\n",
       "      <th>Diff</th>\n",
       "      <th>Lower</th>\n",
       "      <th>Upper</th>\n",
       "      <th>q-value</th>\n",
       "      <th>p-value</th>\n",
       "    </tr>\n",
       "  </thead>\n",
       "  <tbody>\n",
       "    <tr>\n",
       "      <th>0</th>\n",
       "      <td>(Monday, High)</td>\n",
       "      <td>(Monday, Average)</td>\n",
       "      <td>0.886508</td>\n",
       "      <td>-0.095614</td>\n",
       "      <td>1.868631</td>\n",
       "      <td>3.303818</td>\n",
       "      <td>0.092854</td>\n",
       "    </tr>\n",
       "    <tr>\n",
       "      <th>1</th>\n",
       "      <td>(Monday, High)</td>\n",
       "      <td>(Other, High)</td>\n",
       "      <td>0.597785</td>\n",
       "      <td>-0.375504</td>\n",
       "      <td>1.571075</td>\n",
       "      <td>2.248031</td>\n",
       "      <td>0.387659</td>\n",
       "    </tr>\n",
       "    <tr>\n",
       "      <th>2</th>\n",
       "      <td>(Monday, High)</td>\n",
       "      <td>(Other, Average)</td>\n",
       "      <td>1.075192</td>\n",
       "      <td>0.217165</td>\n",
       "      <td>1.933220</td>\n",
       "      <td>4.586527</td>\n",
       "      <td>0.007380</td>\n",
       "    </tr>\n",
       "    <tr>\n",
       "      <th>3</th>\n",
       "      <td>(Monday, Average)</td>\n",
       "      <td>(Other, High)</td>\n",
       "      <td>0.288723</td>\n",
       "      <td>-0.454714</td>\n",
       "      <td>1.032159</td>\n",
       "      <td>1.421464</td>\n",
       "      <td>0.721540</td>\n",
       "    </tr>\n",
       "    <tr>\n",
       "      <th>4</th>\n",
       "      <td>(Monday, Average)</td>\n",
       "      <td>(Other, Average)</td>\n",
       "      <td>0.188684</td>\n",
       "      <td>-0.395796</td>\n",
       "      <td>0.773164</td>\n",
       "      <td>1.181585</td>\n",
       "      <td>0.816521</td>\n",
       "    </tr>\n",
       "    <tr>\n",
       "      <th>5</th>\n",
       "      <td>(Other, High)</td>\n",
       "      <td>(Other, Average)</td>\n",
       "      <td>0.477407</td>\n",
       "      <td>-0.092106</td>\n",
       "      <td>1.046920</td>\n",
       "      <td>3.068204</td>\n",
       "      <td>0.134779</td>\n",
       "    </tr>\n",
       "  </tbody>\n",
       "</table>\n",
       "</div>"
      ],
      "text/plain": [
       "              group1             group2      Diff     Lower     Upper  \\\n",
       "0     (Monday, High)  (Monday, Average)  0.886508 -0.095614  1.868631   \n",
       "1     (Monday, High)      (Other, High)  0.597785 -0.375504  1.571075   \n",
       "2     (Monday, High)   (Other, Average)  1.075192  0.217165  1.933220   \n",
       "3  (Monday, Average)      (Other, High)  0.288723 -0.454714  1.032159   \n",
       "4  (Monday, Average)   (Other, Average)  0.188684 -0.395796  0.773164   \n",
       "5      (Other, High)   (Other, Average)  0.477407 -0.092106  1.046920   \n",
       "\n",
       "    q-value   p-value  \n",
       "0  3.303818  0.092854  \n",
       "1  2.248031  0.387659  \n",
       "2  4.586527  0.007380  \n",
       "3  1.421464  0.721540  \n",
       "4  1.181585  0.816521  \n",
       "5  3.068204  0.134779  "
      ]
     },
     "execution_count": 120,
     "metadata": {},
     "output_type": "execute_result"
    }
   ],
   "source": [
    "res = stat()\n",
    "res.tukey_hsd(df, res_var='abs_price_change_in_day', xfac_var=['day_of_the_week','Weekly_significance_change_Range'], anova_model='abs_price_change_in_day~C(day_of_the_week)+C(Weekly_significance_change_Range)+C(day_of_the_week):C(Weekly_significance_change_Range)')\n",
    "res.tukey_summary"
   ]
  },
  {
   "cell_type": "code",
   "execution_count": null,
   "metadata": {},
   "outputs": [],
   "source": []
  }
 ],
 "metadata": {
  "kernelspec": {
   "display_name": "Python 3",
   "language": "python",
   "name": "python3"
  },
  "language_info": {
   "codemirror_mode": {
    "name": "ipython",
    "version": 3
   },
   "file_extension": ".py",
   "mimetype": "text/x-python",
   "name": "python",
   "nbconvert_exporter": "python",
   "pygments_lexer": "ipython3",
   "version": "3.7.1"
  }
 },
 "nbformat": 4,
 "nbformat_minor": 2
}
